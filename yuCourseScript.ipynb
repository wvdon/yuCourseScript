{
 "cells": [
  {
   "cell_type": "code",
   "execution_count": 1,
   "metadata": {},
   "outputs": [],
   "source": [
    "#_*_coding:utf-8_*_\n",
    "import time\n",
    "import requests\n",
    "import re\n",
    "import json"
   ]
  },
  {
   "cell_type": "code",
   "execution_count": 2,
   "metadata": {},
   "outputs": [],
   "source": [
    "#所需要的参数,\n",
    "#从那获得？微信扫码，进去之后按f12，打开network。找到heartbeat的请求。在请求中分别找到\n",
    "user_id = 45104243\n",
    "cc = \"9FE88481F8F872F39C33DC5901307461\"\n",
    "csrftoken = \"TFnYP9W2OGUh3EEMN3M25bgyR5lqG99w\"\n",
    "sessionid = \"mufi4soizcrv8w3gtphutbds0bekq0j8\"\n",
    "# 刷前两门课程。\n",
    "num_coures = 2\n",
    "#请求间隔时间。\n",
    "sleep_time = 1.0\n",
    "#学校ID，郑大默认是2824\n",
    "university_id = '2824'\n",
    "##参考：https://github.com/WolfIsMyName/yuketangHelper"
   ]
  },
  {
   "cell_type": "code",
   "execution_count": 3,
   "metadata": {},
   "outputs": [],
   "source": [
    "headers = {\n",
    "    'User-Agent': 'Mozilla/5.0 (Macintosh; Intel Mac OS X 10_14_4) AppleWebKit/537.36 (KHTML, like Gecko) Chrome/87.0.4280.67 Safari/537.36',\n",
    "    'Content-Type': 'application/json',\n",
    "    'Cookie': 'csrftoken=' + csrftoken + '; sessionid=' + sessionid + '; university_id='+university_id+'; platform_id=3',\n",
    "    'x-csrftoken': csrftoken,\n",
    "    'sec-fetch-dest': 'empty',\n",
    "    'sec-fetch-mode': 'cors',\n",
    "    'sec-fetch-site': 'same-origin',\n",
    "    'university-id': university_id,\n",
    "    'xtbz': 'cloud'\n",
    "}"
   ]
  },
  {
   "cell_type": "code",
   "execution_count": 4,
   "metadata": {},
   "outputs": [],
   "source": [
    "headers_v2 = {\n",
    "    'User-Agent': 'Mozilla/5.0 (Macintosh; Intel Mac OS X 10_14_4) AppleWebKit/537.36 (KHTML, like Gecko) Chrome/87.0.4280.67 Safari/537.36',\n",
    "    'Content-Type': 'application/json',\n",
    "    'Cookie': 'csrftoken=' + csrftoken + '; sessionid=' + sessionid + '; university_id='+university_id+'; platform_id=3',\n",
    "    'x-csrftoken': csrftoken,\n",
    "    'sec-fetch-dest': 'empty',\n",
    "    'sec-fetch-mode': 'cors',\n",
    "    'sec-fetch-site': 'same-origin',\n",
    "    'university-id': university_id,\n",
    "    'xtbz': 'ykt',\n",
    "    'xt-agent':'web'\n",
    "}"
   ]
  },
  {
   "cell_type": "code",
   "execution_count": 5,
   "metadata": {},
   "outputs": [],
   "source": [
    "user_info_url = \"https://www.yuketang.cn/v2/api/web/userinfo\"\n",
    "response = requests.get(url=user_info_url, headers=headers_v2)\n",
    "str_to_dict = eval(response.text)"
   ]
  },
  {
   "cell_type": "code",
   "execution_count": 6,
   "metadata": {},
   "outputs": [],
   "source": [
    "course_list_url = \"https://www.yuketang.cn/v2/api/web/courses/list?identity=2\"\n",
    "response_course = requests.get(url=course_list_url, headers=headers_v2)"
   ]
  },
  {
   "cell_type": "code",
   "execution_count": 7,
   "metadata": {},
   "outputs": [],
   "source": [
    "#course_text = response_course.text.replace('null','')\n",
    "#str_course_to_dict = eval(course_text)\n",
    "your_courses = []\n",
    "for ins in json.loads(response_course.text)[\"data\"][\"list\"]:\n",
    "            #course_list = eval(ins[\"course\"])\n",
    "            your_courses.append({\n",
    "                \"course_name\":ins[\"course\"][\"name\"],\n",
    "                \"classroom_id\": ins[\"classroom_id\"],\n",
    "                \"id\":ins[\"course\"][\"id\"],\n",
    "                \n",
    "            })          "
   ]
  },
  {
   "cell_type": "code",
   "execution_count": 8,
   "metadata": {},
   "outputs": [],
   "source": [
    "def video_fun(video_id,classroomid,cid,skuid,u,cc,name):\n",
    "    url = \"https://www.yuketang.cn/video-log/heartbeat/\"\n",
    "    get_url = \"https://www.yuketang.cn/video-log/get_video_watch_progress/?cid=\"+str(cid)+\"&user_id=\"+str(user_id)+\"&classroom_id=\"+str(classroomid)+\"&video_type=video&vtype=rate&video_id=\" + str(video_id) + \"&snapshot=1\"\n",
    "    #print(get_url)\n",
    "    progress = requests.get(url=get_url, headers=headers_v2)\n",
    "    \n",
    "    if_completed = '0'\n",
    "    try:\n",
    "        if_completed = re.search(r'\"completed\":(.+?),', progress.text).group(1)\n",
    "    except:\n",
    "        print(\"失败:\"+name+\",id:\"+str(video_id)+\":\"+str(classroomid)+\":\"+str(cid)+\":\"+str(skuid)+\":\"+str(u))\n",
    "        print(progress.text)\n",
    "        print(get_url)\n",
    "        return 1\n",
    "        pass\n",
    "    if if_completed == '1':\n",
    "            print(name+\"已经学习完毕，跳过\")\n",
    "            time.sleep(sleep_time/2)\n",
    "    else:\n",
    "        video_frame = 0\n",
    "        val = 0\n",
    "        learning_rate = 20\n",
    "        t = time.time()\n",
    "        timestap = int(round(t * 1000))\n",
    "        while val != \"1.0\" and val != '1':\n",
    "            heart_data = []\n",
    "            for i in range(50):\n",
    "                heart_data.append(\n",
    "                    {\n",
    "                        \"i\": 5,\n",
    "                        \"et\": \"loadstart\",\n",
    "                        \"p\": \"web\",\n",
    "                        \"n\": \"ali-cdn.xuetangx.com\",\n",
    "                        \"lob\": \"ykt\",\n",
    "                        \"cp\": video_frame,\n",
    "                        \"fp\": 0,\n",
    "                        \"tp\": 0,\n",
    "                        \"sp\": 1,\n",
    "                        \"ts\": str(timestap),\n",
    "                        \"u\": u,\n",
    "                        \"uip\": \"\",\n",
    "                        \"c\": cid,\n",
    "                        \"v\": int(video_id),\n",
    "                        \"skuid\": skuid,\n",
    "                        \"classroomid\": classroomid,\n",
    "                        \"cc\": str(cc),\n",
    "                        \"d\": 6000,\n",
    "                        \"pg\": \"13832258_t77g\",\n",
    "                        \"sq\": 2,\n",
    "                        \"t\": \"video\"\n",
    "                    }\n",
    "                )\n",
    "                video_frame =video_frame+learning_rate\n",
    "                max_time = int((time.time() + 3600) * 1000)\n",
    "                timestap = min(max_time, timestap+1000*15)\n",
    "            data = {\"heart_data\": heart_data}\n",
    "            r = requests.post(url=url,headers=headers,json=data)\n",
    "            progress = requests.get(url=get_url,headers=headers_v2)\n",
    "            tmp_rate = re.search(r'\"rate\":(.+?)[,}]',progress.text)\n",
    "            try:\n",
    "                if(str(tmp_rate.group(1))==str(val)):\n",
    "                    print(\"一直相等：\"+tmp_rate.group(1)+\":\"+str(val))\n",
    "                    #print(data)\n",
    "                    val = \"1.0\"\n",
    "                    continue\n",
    "                else:\n",
    "                    val = tmp_rate.group(1)\n",
    "                    print(name+\">学习进度为：\" + str(float(val)*100))\n",
    "                    time.sleep(sleep_time)\n",
    "            except Exception as e:\n",
    "                print(\"失败_解析:\"+name+\",id:\"+str(video_id))\n",
    "                val = \"1\"\n",
    "                pass\n",
    "        "
   ]
  },
  {
   "cell_type": "code",
   "execution_count": 9,
   "metadata": {},
   "outputs": [],
   "source": [
    "def watch(video_list,skuid):\n",
    "    \n",
    "    for x in video_list:\n",
    "        #print(x[\"classroom_id\"])\n",
    "        # 9013574\n",
    "        classroom_id = x[\"classroom_id\"]\n",
    "        cid = x[\"cid\"]\n",
    "        #print(cid)\n",
    "        if x[\"other_list\"]:\n",
    "            for i in range(0,len(x[\"other_list\"])):\n",
    "                    for z in x[\"other_list\"][i][\"leaf_list\"]:\n",
    "                        name = z[\"title\"]\n",
    "                        vid = z[\"id\"]\n",
    "                        leaf_type = z[\"leaf_type\"]\n",
    "                        if leaf_type != 0:\n",
    "                            pass\n",
    "                        video_fun(vid,classroom_id,cid,skuid,user_id,cc,name)\n",
    "        for v in x['all_list']: \n",
    "            vid = v[\"id\"]\n",
    "            name = v[\"title\"]\n",
    "            leaf_type = v[\"leaf_type\"]\n",
    "            if leaf_type != 0:\n",
    "                pass\n",
    "            video_fun(vid,classroom_id,cid,skuid,user_id,cc,name) "
   ]
  },
  {
   "cell_type": "code",
   "execution_count": 10,
   "metadata": {},
   "outputs": [],
   "source": [
    "def do_watch(super_video_list,course,skuid):\n",
    "    video_url = \"https://www.yuketang.cn/c27/online_courseware/xty/kls/pub_news/\"+super_video_list[0][\"courseware_id\"]+\"/\"\n",
    "    video_response = requests.get(url=video_url, headers=headers)\n",
    "    video_list=[]\n",
    "    for ins in json.loads(video_response.text)[\"data\"][\"content_info\"]:\n",
    "            all_list = []    \n",
    "            video_list.append({\n",
    "                    \"classroom_id\":your_courses[course][\"classroom_id\"],\n",
    "                    \"cid\":your_courses[course][\"id\"],\n",
    "                    \"video_id\":[\"id\"],\n",
    "                    \"all_list\":ins[\"leaf_list\"],\n",
    "                    \"other_list\":ins[\"section_list\"]\n",
    "                })\n",
    "    #print(video_list)\n",
    "    watch(video_list,skuid)"
   ]
  },
  {
   "cell_type": "code",
   "execution_count": 12,
   "metadata": {
    "scrolled": true
   },
   "outputs": [],
   "source": [
    "#为了避免有时候请求异常返回，这里循环3次。\n",
    "for num in range(0,3):\n",
    "    for course in range(0,num_coures):\n",
    "        course_class_url = \"https://www.yuketang.cn/v2/api/web/logs/learn/\"+str(your_courses[course][\"classroom_id\"])+\"?actype=-1&page=0&offset=20&sort=-1\"  \n",
    "        super_video_respone = requests.get(url=course_class_url, headers=headers_v2)\n",
    "        super_video_list=[]\n",
    "        ins = json.loads(super_video_respone.text)[\"data\"][\"activities\"][0]\n",
    "        super_video_list.append({\n",
    "                            \"courseware_id\":ins[\"courseware_id\"],\n",
    "                            \"sku_id\":ins[\"content\"][\"sku_id\"]\n",
    "                        })\n",
    "\n",
    "        skuid = super_video_list[0][\"sku_id\"]\n",
    "        #cid = your_courses[course][\"id\"]\n",
    "        #video_id,classroomid,cid,skuid,u,cc,\n",
    "        do_watch(super_video_list,course,skuid)"
   ]
  },
  {
   "cell_type": "code",
   "execution_count": null,
   "metadata": {},
   "outputs": [],
   "source": []
  }
 ],
 "metadata": {
  "kernelspec": {
   "display_name": "Python 3",
   "language": "python",
   "name": "python3"
  },
  "language_info": {
   "codemirror_mode": {
    "name": "ipython",
    "version": 3
   },
   "file_extension": ".py",
   "mimetype": "text/x-python",
   "name": "python",
   "nbconvert_exporter": "python",
   "pygments_lexer": "ipython3",
   "version": "3.8.5"
  }
 },
 "nbformat": 4,
 "nbformat_minor": 4
}
